{
 "cells": [
  {
   "cell_type": "markdown",
   "metadata": {},
   "source": [
    "# Leetcode Problems"
   ]
  },
  {
   "cell_type": "markdown",
   "metadata": {},
   "source": [
    "##################################################################\n",
    "##########################################################\n",
    "### Problem 1: TwoSums\n",
    "#### Objective: given a list of numbers and a target value, return the indices of two numbers within the list whose sum is the target.\n",
    "#### Source: https://leetcode.com/problems/two-sum/\n",
    "##########################################################\n",
    "##################################################################"
   ]
  },
  {
   "cell_type": "code",
   "execution_count": 11,
   "metadata": {},
   "outputs": [
    {
     "data": {
      "text/plain": [
       "[0, 1]"
      ]
     },
     "execution_count": 11,
     "metadata": {},
     "output_type": "execute_result"
    }
   ],
   "source": [
    "def two_sums(myList, target_value):\n",
    "    \n",
    "    seen_values = []\n",
    "    \n",
    "    for x in range(len(myList)):\n",
    "        y = target_value - myList[x]\n",
    "        \n",
    "        if y in seen_values:\n",
    "            return [seen_values.index(y), x]\n",
    "        else:\n",
    "            seen_values.append(myList[x])\n",
    "            continue"
   ]
  },
  {
   "cell_type": "markdown",
   "metadata": {},
   "source": [
    "##################################################################\n",
    "##########################################################\n",
    "### Problem 2: Add Two Numbers\n",
    "#### Objective: You are given two non-empty linked lists representing two non-negative integers. The digits are stored in reverse order and each of their nodes contain a single digit. Add the two numbers and return it as a linked list. You may assume the two numbers do not contain any leading zero, except the number 0 itself.\n",
    "#### Source: https://leetcode.com/problems/add-two-numbers/\n",
    "##########################################################\n",
    "##################################################################"
   ]
  },
  {
   "cell_type": "markdown",
   "metadata": {},
   "source": [
    "The example states that for two tuples (2,4,3) and (5,6,4), their sum will be (7,0,8) since 342 + 564 = 807"
   ]
  },
  {
   "cell_type": "markdown",
   "metadata": {},
   "source": [
    "####Version 1: Without Linked Lists"
   ]
  },
  {
   "cell_type": "code",
   "execution_count": 37,
   "metadata": {},
   "outputs": [
    {
     "data": {
      "text/plain": [
       "(7, 0, 8)"
      ]
     },
     "execution_count": 37,
     "metadata": {},
     "output_type": "execute_result"
    }
   ],
   "source": [
    "####The example uses tuples, so I will be using them in this case\n",
    " \n",
    "def addTwoNumbers(tuple1, tuple2):\n",
    "    #My thinking is to reverse their order, join them together, convert them to integers, add them, and then do the reverse.\n",
    "    #However, tuples are immutable in python. We'll need to create lists out of them first.\n",
    "    list1 = []\n",
    "    list2 = []\n",
    "    \n",
    "    for x in range(len(tuple1)):\n",
    "        list1.append(tuple1[x])\n",
    "    \n",
    "    for x in range(len(tuple2)):\n",
    "        list2.append(tuple2[x])\n",
    "    \n",
    "    list1.reverse()\n",
    "    list2.reverse()\n",
    "    \n",
    "    list1_as_int = int(\"\".join(map(str, list1)))\n",
    "    list2_as_int = int(\"\".join(map(str, list2)))\n",
    "    \n",
    "    added_numbers = list1_as_int + list2_as_int\n",
    "    \n",
    "    #Now we convert added_numbers back to a tuple\n",
    "    \n",
    "    added_numbers_string = str(added_numbers)\n",
    "    \n",
    "    added_numbers_list = list(added_numbers_string)        \n",
    "    #Added_numbers_list is now a list of strings, so we convert each entry back into an int\n",
    "    \n",
    "    added_numbers_list = list(int(x) for x in added_numbers_list)\n",
    "    \n",
    "    #Reverse it\n",
    "    added_numbers_list.reverse()\n",
    "    \n",
    "    return tuple(added_numbers_list)\n"
   ]
  },
  {
   "cell_type": "markdown",
   "metadata": {},
   "source": [
    "####Version 2: With Linked Lists"
   ]
  },
  {
   "cell_type": "code",
   "execution_count": 68,
   "metadata": {},
   "outputs": [
    {
     "data": {
      "text/plain": [
       "<__main__.LinkedList at 0x1a638af1048>"
      ]
     },
     "execution_count": 68,
     "metadata": {},
     "output_type": "execute_result"
    }
   ],
   "source": [
    "###Code for the class ListNode is taken from Leetcode\n",
    "#LinkedLists are not in Python, so we'll need to create our own class\n",
    "\n",
    "class LinkedList():\n",
    "    def __init__(self, *args):\n",
    "        self.value = list(args)\n",
    "        \n",
    "    \n",
    "    def nextValue(self):\n",
    "        for i in range(len(self.value)):\n",
    "            yield self.value[i]\n",
    "            \n",
    "\n",
    "def addTwoNumbers2(LL1, LL2):\n",
    "    #The thought process here is the exact same as above, \n",
    "    #but we need to first iterate through each linked list to fill out lists1,2\n",
    "    \n",
    "    list1 = []\n",
    "    list2 = []\n",
    "    \n",
    "    for x in range(len(LL1.nextValue)):\n",
    "        list1.append(LL1[x])\n",
    "    \n",
    "    for x in range(len(LL2.nextValue)):\n",
    "        list2.append(LL2[x])\n",
    "    \n",
    "    list1.reverse()\n",
    "    list2.reverse()\n",
    "    \n",
    "    list1_as_int = int(\"\".join(map(str, list1)))\n",
    "    list2_as_int = int(\"\".join(map(str, list2)))\n",
    "    \n",
    "    added_numbers = list1_as_int + list2_as_int\n",
    "    \n",
    "    #Now we convert added_numbers back to a tuple\n",
    "    \n",
    "    added_numbers_string = str(added_numbers)\n",
    "    \n",
    "    added_numbers_list = list(added_numbers_string)        \n",
    "    #Added_numbers_list is now a list of strings, so we convert each entry back into an int\n",
    "    \n",
    "    added_numbers_list = list(int(x) for x in added_numbers_list)\n",
    "    \n",
    "    #Reverse it\n",
    "    added_numbers_list.reverse()\n",
    "    \n",
    "    return tuple(added_numbers_list)\n",
    "\n",
    "\n"
   ]
  },
  {
   "cell_type": "markdown",
   "metadata": {},
   "source": [
    "##################################################################\n",
    "##########################################################\n",
    "### Problem 3: Longest Substring Without Repeating Characters\n",
    "#### Objective: Given a string, find the length of the longest substring without repeating characters.\n",
    "#### Source: https://leetcode.com/problems/longest-substring-without-repeating-characters/\n",
    "##########################################################\n",
    "##################################################################"
   ]
  },
  {
   "cell_type": "code",
   "execution_count": 89,
   "metadata": {},
   "outputs": [],
   "source": [
    "def lengthOfLongestSubstring(input_string):\n",
    "    substring_lengths = [0] * len(input_string) #\n",
    "    substring_lengths_counter = 0\n",
    "    substring = []\n",
    "    \n",
    "    for letter in input_string:\n",
    "        if letter not in substring:\n",
    "            substring.append(letter)\n",
    "            substring_lengths[substring_lengths_counter] += 1\n",
    "            \n",
    "        else: \n",
    "            substring_lengths_counter += 1\n",
    "            substring = []\n",
    "            \n",
    "        \n",
    "    return max(substring_lengths)    "
   ]
  },
  {
   "cell_type": "code",
   "execution_count": 92,
   "metadata": {
    "scrolled": true
   },
   "outputs": [
    {
     "name": "stdout",
     "output_type": "stream",
     "text": [
      "Substring:  []\n",
      "Substring:  ['p']\n",
      "Substring:  ['p', 'w']\n",
      "Substring:  []\n",
      "Substring:  ['k']\n",
      "Substring:  ['k', 'e']\n"
     ]
    },
    {
     "data": {
      "text/plain": [
       "3"
      ]
     },
     "execution_count": 92,
     "metadata": {},
     "output_type": "execute_result"
    }
   ],
   "source": [
    "input_string = \"pwwkew\"\n",
    "\n",
    "lengthOfLongestSubstring(input_string)"
   ]
  },
  {
   "cell_type": "markdown",
   "metadata": {},
   "source": [
    "##################################################################\n",
    "##########################################################\n",
    "### Problem 4: Median of Two Sorted Arrays\n",
    "#### Objective: There are two sorted arrays nums1 and nums2 of size m and n respectively. Find the median of the two sorted arrays. The overall run time complexity should be O(log (m+n)). You may assume nums1 and nums2 cannot be both empty.\n",
    "#### Source: https://leetcode.com/problems/median-of-two-sorted-arrays/\n",
    "##########################################################\n",
    "##################################################################"
   ]
  },
  {
   "cell_type": "code",
   "execution_count": 113,
   "metadata": {},
   "outputs": [
    {
     "data": {
      "text/plain": [
       "2.5"
      ]
     },
     "execution_count": 113,
     "metadata": {},
     "output_type": "execute_result"
    }
   ],
   "source": [
    "import statistics as st\n",
    "#Version 1 - cheating with the statistics library\n",
    "\n",
    "def MedianSortedArrays(array1, array2):\n",
    "    new_array = array1 + array2\n",
    "    \n",
    "    new_array.sort()\n",
    "    \n",
    "    return st.median(new_array)\n",
    "\n",
    "\n",
    "\n",
    "\n",
    "#Version 2 - actually deriving the median\n",
    "\n",
    "def MedianSortedArrays2(array1, array2):\n",
    "    new_array = array1 + array2\n",
    "    \n",
    "    if len(new_array)%2 != 0:\n",
    "        index_value = int((len(new_array)+1)/2)\n",
    "        return new_array[index_value-1]\n",
    "    \n",
    "    else:\n",
    "        index_value = int((len(new_array)+1)/2)\n",
    "        return (new_array[index_value-1]+new_array[index_value])/2\n",
    "        \n",
    "\n",
    "MedianSortedArrays2([1,2], [3,4])\n",
    "\n",
    "    \n",
    "    "
   ]
  }
 ],
 "metadata": {
  "kernelspec": {
   "display_name": "Python 3",
   "language": "python",
   "name": "python3"
  },
  "language_info": {
   "codemirror_mode": {
    "name": "ipython",
    "version": 3
   },
   "file_extension": ".py",
   "mimetype": "text/x-python",
   "name": "python",
   "nbconvert_exporter": "python",
   "pygments_lexer": "ipython3",
   "version": "3.7.4"
  }
 },
 "nbformat": 4,
 "nbformat_minor": 2
}
