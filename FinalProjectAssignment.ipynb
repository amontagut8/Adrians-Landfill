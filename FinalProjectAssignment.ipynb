{
 "cells": [
  {
   "cell_type": "markdown",
   "metadata": {},
   "source": [
    "# Final Project\n",
    "\n",
    "## Predict whether a mammogram mass is benign or malignant\n",
    "\n",
    "We'll be using the \"mammographic masses\" public dataset from the UCI repository (source: https://archive.ics.uci.edu/ml/datasets/Mammographic+Mass)\n",
    "\n",
    "This data contains 961 instances of masses detected in mammograms, and contains the following attributes:\n",
    "\n",
    "\n",
    "   1. BI-RADS assessment: 1 to 5 (ordinal)  \n",
    "   2. Age: patient's age in years (integer)\n",
    "   3. Shape: mass shape: round=1 oval=2 lobular=3 irregular=4 (nominal)\n",
    "   4. Margin: mass margin: circumscribed=1 microlobulated=2 obscured=3 ill-defined=4 spiculated=5 (nominal)\n",
    "   5. Density: mass density high=1 iso=2 low=3 fat-containing=4 (ordinal)\n",
    "   6. Severity: benign=0 or malignant=1 (binominal)\n",
    "   \n",
    "BI-RADS is an assesment of how confident the severity classification is; it is not a \"predictive\" attribute and so we will discard it. The age, shape, margin, and density attributes are the features that we will build our model with, and \"severity\" is the classification we will attempt to predict based on those attributes.\n",
    "\n",
    "Although \"shape\" and \"margin\" are nominal data types, which sklearn typically doesn't deal with well, they are close enough to ordinal that we shouldn't just discard them. The \"shape\" for example is ordered increasingly from round to irregular.\n",
    "\n",
    "A lot of unnecessary anguish and surgery arises from false positives arising from mammogram results. If we can build a better way to interpret them through supervised machine learning, it could improve a lot of lives.\n",
    "\n",
    "## Your assignment\n",
    "\n",
    "Apply several different supervised machine learning techniques to this data set, and see which one yields the highest accuracy as measured with K-Fold cross validation (K=10). Apply:\n",
    "\n",
    "* Decision tree\n",
    "* Random forest\n",
    "* KNN\n",
    "* Naive Bayes\n",
    "* SVM\n",
    "* Logistic Regression\n",
    "* And, as a bonus challenge, a neural network using Keras.\n",
    "\n",
    "The data needs to be cleaned; many rows contain missing data, and there may be erroneous data identifiable as outliers as well.\n",
    "\n",
    "Remember some techniques such as SVM also require the input data to be normalized first.\n",
    "\n",
    "Many techniques also have \"hyperparameters\" that need to be tuned. Once you identify a promising approach, see if you can make it even better by tuning its hyperparameters.\n",
    "\n",
    "I was able to achieve over 80% accuracy - can you beat that?\n",
    "\n",
    "Below I've set up an outline of a notebook for this project, with some guidance and hints. If you're up for a real challenge, try doing this project from scratch in a new, clean notebook!\n"
   ]
  },
  {
   "cell_type": "markdown",
   "metadata": {},
   "source": [
    "## Let's begin: prepare your data\n",
    "\n",
    "Start by importing the mammographic_masses.data.txt file into a Pandas dataframe (hint: use read_csv) and take a look at it."
   ]
  },
  {
   "cell_type": "code",
   "execution_count": 6,
   "metadata": {},
   "outputs": [
    {
     "data": {
      "text/html": [
       "<div>\n",
       "<style scoped>\n",
       "    .dataframe tbody tr th:only-of-type {\n",
       "        vertical-align: middle;\n",
       "    }\n",
       "\n",
       "    .dataframe tbody tr th {\n",
       "        vertical-align: top;\n",
       "    }\n",
       "\n",
       "    .dataframe thead th {\n",
       "        text-align: right;\n",
       "    }\n",
       "</style>\n",
       "<table border=\"1\" class=\"dataframe\">\n",
       "  <thead>\n",
       "    <tr style=\"text-align: right;\">\n",
       "      <th></th>\n",
       "      <th>BI_RADS</th>\n",
       "      <th>age</th>\n",
       "      <th>shape</th>\n",
       "      <th>margin</th>\n",
       "      <th>density</th>\n",
       "      <th>severity</th>\n",
       "    </tr>\n",
       "  </thead>\n",
       "  <tbody>\n",
       "    <tr>\n",
       "      <th>0</th>\n",
       "      <td>5.0</td>\n",
       "      <td>67.0</td>\n",
       "      <td>3.0</td>\n",
       "      <td>5.0</td>\n",
       "      <td>3.0</td>\n",
       "      <td>1</td>\n",
       "    </tr>\n",
       "    <tr>\n",
       "      <th>1</th>\n",
       "      <td>4.0</td>\n",
       "      <td>43.0</td>\n",
       "      <td>1.0</td>\n",
       "      <td>1.0</td>\n",
       "      <td>NaN</td>\n",
       "      <td>1</td>\n",
       "    </tr>\n",
       "    <tr>\n",
       "      <th>2</th>\n",
       "      <td>5.0</td>\n",
       "      <td>58.0</td>\n",
       "      <td>4.0</td>\n",
       "      <td>5.0</td>\n",
       "      <td>3.0</td>\n",
       "      <td>1</td>\n",
       "    </tr>\n",
       "    <tr>\n",
       "      <th>3</th>\n",
       "      <td>4.0</td>\n",
       "      <td>28.0</td>\n",
       "      <td>1.0</td>\n",
       "      <td>1.0</td>\n",
       "      <td>3.0</td>\n",
       "      <td>0</td>\n",
       "    </tr>\n",
       "    <tr>\n",
       "      <th>4</th>\n",
       "      <td>5.0</td>\n",
       "      <td>74.0</td>\n",
       "      <td>1.0</td>\n",
       "      <td>5.0</td>\n",
       "      <td>NaN</td>\n",
       "      <td>1</td>\n",
       "    </tr>\n",
       "  </tbody>\n",
       "</table>\n",
       "</div>"
      ],
      "text/plain": [
       "   BI_RADS   age  shape  margin  density  severity\n",
       "0      5.0  67.0    3.0     5.0      3.0         1\n",
       "1      4.0  43.0    1.0     1.0      NaN         1\n",
       "2      5.0  58.0    4.0     5.0      3.0         1\n",
       "3      4.0  28.0    1.0     1.0      3.0         0\n",
       "4      5.0  74.0    1.0     5.0      NaN         1"
      ]
     },
     "execution_count": 6,
     "metadata": {},
     "output_type": "execute_result"
    }
   ],
   "source": [
    "import pandas as pd\n",
    "import numpy as np\n",
    "\n",
    "feature_names = [\"BI_RADS\", \"age\", \"shape\", \"margin\", \"density\", \"severity\"]\n",
    "\n",
    "data = pd.read_csv(\"C:/Users/amontagut/Desktop/Python/MLCourse/mammographic_masses.data.txt\", sep=\",\", na_values=['?'],\n",
    "                  names = feature_names)\n",
    "\n",
    "#Severity is a measure of malignancy. 0 = benign, 1 = malignant\n",
    "\n",
    "\n",
    "\n",
    "\n",
    "\n",
    "\n"
   ]
  },
  {
   "cell_type": "markdown",
   "metadata": {},
   "source": [
    "Make sure you use the optional parmaters in read_csv to convert missing data (indicated by a ?) into NaN, and to add the appropriate column names (BI_RADS, age, shape, margin, density, and severity):"
   ]
  },
  {
   "cell_type": "code",
   "execution_count": null,
   "metadata": {},
   "outputs": [],
   "source": []
  },
  {
   "cell_type": "markdown",
   "metadata": {},
   "source": [
    "Evaluate whether the data needs cleaning; your model is only as good as the data it's given. Hint: use describe() on the dataframe."
   ]
  },
  {
   "cell_type": "code",
   "execution_count": 45,
   "metadata": {},
   "outputs": [
    {
     "data": {
      "text/plain": [
       "961"
      ]
     },
     "execution_count": 45,
     "metadata": {},
     "output_type": "execute_result"
    }
   ],
   "source": [
    "len(data[data.columns[1]].isna()==True)"
   ]
  },
  {
   "cell_type": "markdown",
   "metadata": {},
   "source": [
    "There are quite a few missing values in the data set. Before we just drop every row that's missing data, let's make sure we don't bias our data in doing so. Does there appear to be any sort of correlation to what sort of data has missing fields? If there were, we'd have to try and go back and fill that data in."
   ]
  },
  {
   "cell_type": "code",
   "execution_count": 43,
   "metadata": {},
   "outputs": [
    {
     "name": "stdout",
     "output_type": "stream",
     "text": [
      "BI_RADS has this many NA's:  2\n",
      "age has this many NA's:  5\n",
      "shape has this many NA's:  31\n",
      "margin has this many NA's:  48\n",
      "density has this many NA's:  76\n",
      "severity has this many NA's:  0\n"
     ]
    }
   ],
   "source": [
    "#Iterate through all columns and return the number of affected rows\n",
    "\n",
    "for x in range(len(data.columns)):\n",
    "    print(data.columns[x], \"has this many NA's: \", len(data[data[data.columns[x]].isna()==True]))\n",
    "\n",
    "    \n",
    "    \n"
   ]
  },
  {
   "cell_type": "markdown",
   "metadata": {},
   "source": [
    "If the missing data seems randomly distributed, go ahead and drop rows with missing data. Hint: use dropna()."
   ]
  },
  {
   "cell_type": "code",
   "execution_count": 47,
   "metadata": {},
   "outputs": [
    {
     "data": {
      "text/html": [
       "<div>\n",
       "<style scoped>\n",
       "    .dataframe tbody tr th:only-of-type {\n",
       "        vertical-align: middle;\n",
       "    }\n",
       "\n",
       "    .dataframe tbody tr th {\n",
       "        vertical-align: top;\n",
       "    }\n",
       "\n",
       "    .dataframe thead th {\n",
       "        text-align: right;\n",
       "    }\n",
       "</style>\n",
       "<table border=\"1\" class=\"dataframe\">\n",
       "  <thead>\n",
       "    <tr style=\"text-align: right;\">\n",
       "      <th></th>\n",
       "      <th>BI_RADS</th>\n",
       "      <th>age</th>\n",
       "      <th>shape</th>\n",
       "      <th>margin</th>\n",
       "      <th>density</th>\n",
       "      <th>severity</th>\n",
       "    </tr>\n",
       "  </thead>\n",
       "  <tbody>\n",
       "    <tr>\n",
       "      <th>count</th>\n",
       "      <td>830.000000</td>\n",
       "      <td>830.000000</td>\n",
       "      <td>830.000000</td>\n",
       "      <td>830.000000</td>\n",
       "      <td>830.000000</td>\n",
       "      <td>830.000000</td>\n",
       "    </tr>\n",
       "    <tr>\n",
       "      <th>mean</th>\n",
       "      <td>4.393976</td>\n",
       "      <td>55.781928</td>\n",
       "      <td>2.781928</td>\n",
       "      <td>2.813253</td>\n",
       "      <td>2.915663</td>\n",
       "      <td>0.485542</td>\n",
       "    </tr>\n",
       "    <tr>\n",
       "      <th>std</th>\n",
       "      <td>1.888371</td>\n",
       "      <td>14.671782</td>\n",
       "      <td>1.242361</td>\n",
       "      <td>1.567175</td>\n",
       "      <td>0.350936</td>\n",
       "      <td>0.500092</td>\n",
       "    </tr>\n",
       "    <tr>\n",
       "      <th>min</th>\n",
       "      <td>0.000000</td>\n",
       "      <td>18.000000</td>\n",
       "      <td>1.000000</td>\n",
       "      <td>1.000000</td>\n",
       "      <td>1.000000</td>\n",
       "      <td>0.000000</td>\n",
       "    </tr>\n",
       "    <tr>\n",
       "      <th>25%</th>\n",
       "      <td>4.000000</td>\n",
       "      <td>46.000000</td>\n",
       "      <td>2.000000</td>\n",
       "      <td>1.000000</td>\n",
       "      <td>3.000000</td>\n",
       "      <td>0.000000</td>\n",
       "    </tr>\n",
       "    <tr>\n",
       "      <th>50%</th>\n",
       "      <td>4.000000</td>\n",
       "      <td>57.000000</td>\n",
       "      <td>3.000000</td>\n",
       "      <td>3.000000</td>\n",
       "      <td>3.000000</td>\n",
       "      <td>0.000000</td>\n",
       "    </tr>\n",
       "    <tr>\n",
       "      <th>75%</th>\n",
       "      <td>5.000000</td>\n",
       "      <td>66.000000</td>\n",
       "      <td>4.000000</td>\n",
       "      <td>4.000000</td>\n",
       "      <td>3.000000</td>\n",
       "      <td>1.000000</td>\n",
       "    </tr>\n",
       "    <tr>\n",
       "      <th>max</th>\n",
       "      <td>55.000000</td>\n",
       "      <td>96.000000</td>\n",
       "      <td>4.000000</td>\n",
       "      <td>5.000000</td>\n",
       "      <td>4.000000</td>\n",
       "      <td>1.000000</td>\n",
       "    </tr>\n",
       "  </tbody>\n",
       "</table>\n",
       "</div>"
      ],
      "text/plain": [
       "          BI_RADS         age       shape      margin     density    severity\n",
       "count  830.000000  830.000000  830.000000  830.000000  830.000000  830.000000\n",
       "mean     4.393976   55.781928    2.781928    2.813253    2.915663    0.485542\n",
       "std      1.888371   14.671782    1.242361    1.567175    0.350936    0.500092\n",
       "min      0.000000   18.000000    1.000000    1.000000    1.000000    0.000000\n",
       "25%      4.000000   46.000000    2.000000    1.000000    3.000000    0.000000\n",
       "50%      4.000000   57.000000    3.000000    3.000000    3.000000    0.000000\n",
       "75%      5.000000   66.000000    4.000000    4.000000    3.000000    1.000000\n",
       "max     55.000000   96.000000    4.000000    5.000000    4.000000    1.000000"
      ]
     },
     "execution_count": 47,
     "metadata": {},
     "output_type": "execute_result"
    }
   ],
   "source": [
    "#The instructor did drop the NA's, so I will too\n",
    "\n",
    "data = data.dropna()\n",
    "\n",
    "data.describe()"
   ]
  },
  {
   "cell_type": "code",
   "execution_count": null,
   "metadata": {},
   "outputs": [],
   "source": [
    "Next you'll need to convert the Pandas dataframes into numpy arrays that can be used by scikit_learn. Create an array that extracts only the feature data we want to work with (age, shape, margin, and density) and another array that contains the classes (severity). You'll also need an array of the feature name labels."
   ]
  },
  {
   "cell_type": "code",
   "execution_count": 55,
   "metadata": {},
   "outputs": [],
   "source": [
    "X_data = np.array(data[[\"age\", \"shape\", \"margin\", \"density\"]])\n",
    "\n",
    "y_data = np.array(data[\"severity\"])"
   ]
  },
  {
   "cell_type": "markdown",
   "metadata": {},
   "source": [
    "Some of our models require the input data to be normalized, so go ahead and normalize the attribute data. Hint: use preprocessing.StandardScaler()."
   ]
  },
  {
   "cell_type": "code",
   "execution_count": 60,
   "metadata": {},
   "outputs": [],
   "source": [
    "from sklearn.preprocessing import StandardScaler\n",
    "\n",
    "scaler = StandardScaler()\n",
    "\n",
    "X_data_fitted = scaler.fit_transform(X_data)"
   ]
  },
  {
   "cell_type": "markdown",
   "metadata": {},
   "source": [
    "## Decision Trees\n",
    "\n",
    "Before moving to K-Fold cross validation and random forests, start by creating a single train/test split of our data. Set aside 75% for training, and 25% for testing."
   ]
  },
  {
   "cell_type": "code",
   "execution_count": 64,
   "metadata": {},
   "outputs": [],
   "source": [
    "from sklearn.model_selection import train_test_split\n",
    "\n",
    "X_train, X_test, y_train, y_test = train_test_split(X_data_fitted, y_data, train_size=0.75)\n",
    "\n"
   ]
  },
  {
   "cell_type": "markdown",
   "metadata": {},
   "source": [
    "Now create a DecisionTreeClassifier and fit it to your training data."
   ]
  },
  {
   "cell_type": "code",
   "execution_count": 65,
   "metadata": {},
   "outputs": [
    {
     "data": {
      "text/plain": [
       "DecisionTreeClassifier(ccp_alpha=0.0, class_weight=None, criterion='gini',\n",
       "                       max_depth=None, max_features=None, max_leaf_nodes=None,\n",
       "                       min_impurity_decrease=0.0, min_impurity_split=None,\n",
       "                       min_samples_leaf=1, min_samples_split=2,\n",
       "                       min_weight_fraction_leaf=0.0, presort='deprecated',\n",
       "                       random_state=None, splitter='best')"
      ]
     },
     "execution_count": 65,
     "metadata": {},
     "output_type": "execute_result"
    }
   ],
   "source": [
    "from sklearn.tree import DecisionTreeClassifier\n",
    "\n",
    "decision_tree = DecisionTreeClassifier()\n",
    "\n",
    "decision_tree.fit(X_train, y_train)\n",
    "\n"
   ]
  },
  {
   "cell_type": "markdown",
   "metadata": {},
   "source": [
    "Display the resulting decision tree."
   ]
  },
  {
   "cell_type": "code",
   "execution_count": 68,
   "metadata": {},
   "outputs": [
    {
     "data": {
      "text/plain": [
       "[Text(131.040087890625, 211.7178947368421, 'X[2] <= -0.838\\ngini = 0.498\\nsamples = 622\\nvalue = [330, 292]'),\n",
       " Text(56.57127403846154, 200.2736842105263, 'X[0] <= 0.595\\ngini = 0.219\\nsamples = 248\\nvalue = [217, 31]'),\n",
       " Text(21.931009615384614, 188.82947368421054, 'X[0] <= -0.974\\ngini = 0.168\\nsamples = 216\\nvalue = [196, 20]'),\n",
       " Text(4.292307692307692, 177.38526315789474, 'X[0] <= -1.52\\ngini = 0.051\\nsamples = 77\\nvalue = [75, 2]'),\n",
       " Text(2.146153846153846, 165.94105263157894, 'gini = 0.0\\nsamples = 41\\nvalue = [41, 0]'),\n",
       " Text(6.438461538461539, 165.94105263157894, 'X[0] <= -1.383\\ngini = 0.105\\nsamples = 36\\nvalue = [34, 2]'),\n",
       " Text(4.292307692307692, 154.49684210526317, 'X[1] <= -1.032\\ngini = 0.32\\nsamples = 10\\nvalue = [8, 2]'),\n",
       " Text(2.146153846153846, 143.05263157894737, 'gini = 0.0\\nsamples = 3\\nvalue = [3, 0]'),\n",
       " Text(6.438461538461539, 143.05263157894737, 'X[3] <= -1.185\\ngini = 0.408\\nsamples = 7\\nvalue = [5, 2]'),\n",
       " Text(4.292307692307692, 131.60842105263157, 'gini = 0.0\\nsamples = 1\\nvalue = [1, 0]'),\n",
       " Text(8.584615384615384, 131.60842105263157, 'X[0] <= -1.451\\ngini = 0.444\\nsamples = 6\\nvalue = [4, 2]'),\n",
       " Text(6.438461538461539, 120.16421052631578, 'gini = 0.444\\nsamples = 3\\nvalue = [2, 1]'),\n",
       " Text(10.73076923076923, 120.16421052631578, 'gini = 0.444\\nsamples = 3\\nvalue = [2, 1]'),\n",
       " Text(8.584615384615384, 154.49684210526317, 'gini = 0.0\\nsamples = 26\\nvalue = [26, 0]'),\n",
       " Text(39.56971153846154, 177.38526315789474, 'X[0] <= -0.838\\ngini = 0.225\\nsamples = 139\\nvalue = [121, 18]'),\n",
       " Text(17.16923076923077, 165.94105263157894, 'X[3] <= -4.036\\ngini = 0.375\\nsamples = 20\\nvalue = [15, 5]'),\n",
       " Text(15.023076923076923, 154.49684210526317, 'gini = 0.0\\nsamples = 1\\nvalue = [0, 1]'),\n",
       " Text(19.315384615384616, 154.49684210526317, 'X[3] <= -1.185\\ngini = 0.332\\nsamples = 19\\nvalue = [15, 4]'),\n",
       " Text(17.16923076923077, 143.05263157894737, 'gini = 0.0\\nsamples = 3\\nvalue = [3, 0]'),\n",
       " Text(21.46153846153846, 143.05263157894737, 'X[1] <= -1.032\\ngini = 0.375\\nsamples = 16\\nvalue = [12, 4]'),\n",
       " Text(17.16923076923077, 131.60842105263157, 'X[0] <= -0.906\\ngini = 0.245\\nsamples = 7\\nvalue = [6, 1]'),\n",
       " Text(15.023076923076923, 120.16421052631578, 'gini = 0.0\\nsamples = 3\\nvalue = [3, 0]'),\n",
       " Text(19.315384615384616, 120.16421052631578, 'gini = 0.375\\nsamples = 4\\nvalue = [3, 1]'),\n",
       " Text(25.753846153846155, 131.60842105263157, 'X[0] <= -0.906\\ngini = 0.444\\nsamples = 9\\nvalue = [6, 3]'),\n",
       " Text(23.607692307692307, 120.16421052631578, 'gini = 0.5\\nsamples = 4\\nvalue = [2, 2]'),\n",
       " Text(27.9, 120.16421052631578, 'gini = 0.32\\nsamples = 5\\nvalue = [4, 1]'),\n",
       " Text(61.97019230769231, 165.94105263157894, 'X[1] <= -0.227\\ngini = 0.195\\nsamples = 119\\nvalue = [106, 13]'),\n",
       " Text(50.97115384615385, 154.49684210526317, 'X[0] <= 0.117\\ngini = 0.164\\nsamples = 111\\nvalue = [101, 10]'),\n",
       " Text(40.776923076923076, 143.05263157894737, 'X[0] <= -0.087\\ngini = 0.112\\nsamples = 84\\nvalue = [79, 5]'),\n",
       " Text(38.63076923076923, 131.60842105263157, 'X[0] <= -0.224\\ngini = 0.134\\nsamples = 69\\nvalue = [64, 5]'),\n",
       " Text(32.19230769230769, 120.16421052631578, 'X[0] <= -0.428\\ngini = 0.075\\nsamples = 51\\nvalue = [49, 2]'),\n",
       " Text(30.046153846153846, 108.72, 'X[0] <= -0.497\\ngini = 0.095\\nsamples = 40\\nvalue = [38, 2]'),\n",
       " Text(25.753846153846155, 97.27578947368421, 'X[0] <= -0.701\\ngini = 0.059\\nsamples = 33\\nvalue = [32, 1]'),\n",
       " Text(23.607692307692307, 85.83157894736843, 'X[1] <= -1.032\\ngini = 0.124\\nsamples = 15\\nvalue = [14, 1]'),\n",
       " Text(21.46153846153846, 74.38736842105263, 'gini = 0.0\\nsamples = 8\\nvalue = [8, 0]'),\n",
       " Text(25.753846153846155, 74.38736842105263, 'X[0] <= -0.769\\ngini = 0.245\\nsamples = 7\\nvalue = [6, 1]'),\n",
       " Text(23.607692307692307, 62.943157894736856, 'gini = 0.0\\nsamples = 3\\nvalue = [3, 0]'),\n",
       " Text(27.9, 62.943157894736856, 'X[3] <= -1.185\\ngini = 0.375\\nsamples = 4\\nvalue = [3, 1]'),\n",
       " Text(25.753846153846155, 51.49894736842106, 'gini = 0.0\\nsamples = 1\\nvalue = [1, 0]'),\n",
       " Text(30.046153846153846, 51.49894736842106, 'gini = 0.444\\nsamples = 3\\nvalue = [2, 1]'),\n",
       " Text(27.9, 85.83157894736843, 'gini = 0.0\\nsamples = 18\\nvalue = [18, 0]'),\n",
       " Text(34.33846153846154, 97.27578947368421, 'X[1] <= -1.032\\ngini = 0.245\\nsamples = 7\\nvalue = [6, 1]'),\n",
       " Text(32.19230769230769, 85.83157894736843, 'gini = 0.444\\nsamples = 3\\nvalue = [2, 1]'),\n",
       " Text(36.48461538461538, 85.83157894736843, 'gini = 0.0\\nsamples = 4\\nvalue = [4, 0]'),\n",
       " Text(34.33846153846154, 108.72, 'gini = 0.0\\nsamples = 11\\nvalue = [11, 0]'),\n",
       " Text(45.06923076923077, 120.16421052631578, 'X[3] <= -1.185\\ngini = 0.278\\nsamples = 18\\nvalue = [15, 3]'),\n",
       " Text(42.92307692307692, 108.72, 'gini = 0.0\\nsamples = 1\\nvalue = [1, 0]'),\n",
       " Text(47.215384615384615, 108.72, 'X[0] <= -0.156\\ngini = 0.291\\nsamples = 17\\nvalue = [14, 3]'),\n",
       " Text(42.92307692307692, 97.27578947368421, 'X[1] <= -1.032\\ngini = 0.32\\nsamples = 10\\nvalue = [8, 2]'),\n",
       " Text(40.776923076923076, 85.83157894736843, 'gini = 0.444\\nsamples = 6\\nvalue = [4, 2]'),\n",
       " Text(45.06923076923077, 85.83157894736843, 'gini = 0.0\\nsamples = 4\\nvalue = [4, 0]'),\n",
       " Text(51.50769230769231, 97.27578947368421, 'X[1] <= -1.032\\ngini = 0.245\\nsamples = 7\\nvalue = [6, 1]'),\n",
       " Text(49.36153846153846, 85.83157894736843, 'gini = 0.0\\nsamples = 5\\nvalue = [5, 0]'),\n",
       " Text(53.65384615384615, 85.83157894736843, 'gini = 0.5\\nsamples = 2\\nvalue = [1, 1]'),\n",
       " Text(42.92307692307692, 131.60842105263157, 'gini = 0.0\\nsamples = 15\\nvalue = [15, 0]'),\n",
       " Text(61.16538461538461, 143.05263157894737, 'X[0] <= 0.39\\ngini = 0.302\\nsamples = 27\\nvalue = [22, 5]'),\n",
       " Text(59.01923076923077, 131.60842105263157, 'X[0] <= 0.185\\ngini = 0.444\\nsamples = 15\\nvalue = [10, 5]'),\n",
       " Text(53.65384615384615, 120.16421052631578, 'X[1] <= -1.032\\ngini = 0.32\\nsamples = 5\\nvalue = [4, 1]'),\n",
       " Text(51.50769230769231, 108.72, 'gini = 0.444\\nsamples = 3\\nvalue = [2, 1]'),\n",
       " Text(55.8, 108.72, 'gini = 0.0\\nsamples = 2\\nvalue = [2, 0]'),\n",
       " Text(64.38461538461539, 120.16421052631578, 'X[0] <= 0.254\\ngini = 0.48\\nsamples = 10\\nvalue = [6, 4]'),\n",
       " Text(60.09230769230769, 108.72, 'X[1] <= -1.032\\ngini = 0.5\\nsamples = 6\\nvalue = [3, 3]'),\n",
       " Text(57.94615384615384, 97.27578947368421, 'gini = 0.0\\nsamples = 1\\nvalue = [1, 0]'),\n",
       " Text(62.238461538461536, 97.27578947368421, 'gini = 0.48\\nsamples = 5\\nvalue = [2, 3]'),\n",
       " Text(68.67692307692307, 108.72, 'X[1] <= -1.032\\ngini = 0.375\\nsamples = 4\\nvalue = [3, 1]'),\n",
       " Text(66.53076923076922, 97.27578947368421, 'gini = 0.5\\nsamples = 2\\nvalue = [1, 1]'),\n",
       " Text(70.82307692307693, 97.27578947368421, 'gini = 0.0\\nsamples = 2\\nvalue = [2, 0]'),\n",
       " Text(63.31153846153846, 131.60842105263157, 'gini = 0.0\\nsamples = 12\\nvalue = [12, 0]'),\n",
       " Text(72.96923076923076, 154.49684210526317, 'X[0] <= 0.151\\ngini = 0.469\\nsamples = 8\\nvalue = [5, 3]'),\n",
       " Text(70.82307692307693, 143.05263157894737, 'X[0] <= -0.769\\ngini = 0.48\\nsamples = 5\\nvalue = [2, 3]'),\n",
       " Text(68.67692307692307, 131.60842105263157, 'gini = 0.0\\nsamples = 1\\nvalue = [1, 0]'),\n",
       " Text(72.96923076923076, 131.60842105263157, 'X[0] <= -0.565\\ngini = 0.375\\nsamples = 4\\nvalue = [1, 3]'),\n",
       " Text(70.82307692307693, 120.16421052631578, 'gini = 0.0\\nsamples = 2\\nvalue = [0, 2]'),\n",
       " Text(75.11538461538461, 120.16421052631578, 'X[0] <= -0.224\\ngini = 0.5\\nsamples = 2\\nvalue = [1, 1]'),\n",
       " Text(72.96923076923076, 108.72, 'gini = 0.0\\nsamples = 1\\nvalue = [1, 0]'),\n",
       " Text(77.26153846153846, 108.72, 'gini = 0.0\\nsamples = 1\\nvalue = [0, 1]'),\n",
       " Text(75.11538461538461, 143.05263157894737, 'gini = 0.0\\nsamples = 3\\nvalue = [3, 0]'),\n",
       " Text(91.21153846153845, 188.82947368421054, 'X[1] <= -1.032\\ngini = 0.451\\nsamples = 32\\nvalue = [21, 11]'),\n",
       " Text(85.84615384615384, 177.38526315789474, 'X[0] <= 1.379\\ngini = 0.5\\nsamples = 16\\nvalue = [8, 8]'),\n",
       " Text(83.7, 165.94105263157894, 'X[3] <= -1.185\\ngini = 0.473\\nsamples = 13\\nvalue = [5, 8]'),\n",
       " Text(81.55384615384615, 154.49684210526317, 'gini = 0.0\\nsamples = 2\\nvalue = [0, 2]'),\n",
       " Text(85.84615384615384, 154.49684210526317, 'X[0] <= 0.867\\ngini = 0.496\\nsamples = 11\\nvalue = [5, 6]'),\n",
       " Text(83.7, 143.05263157894737, 'X[0] <= 0.663\\ngini = 0.48\\nsamples = 10\\nvalue = [4, 6]'),\n",
       " Text(81.55384615384615, 131.60842105263157, 'gini = 0.0\\nsamples = 1\\nvalue = [0, 1]'),\n",
       " Text(85.84615384615384, 131.60842105263157, 'X[0] <= 0.799\\ngini = 0.494\\nsamples = 9\\nvalue = [4, 5]'),\n",
       " Text(83.7, 120.16421052631578, 'X[0] <= 0.731\\ngini = 0.48\\nsamples = 5\\nvalue = [3, 2]'),\n",
       " Text(81.55384615384615, 108.72, 'gini = 0.5\\nsamples = 4\\nvalue = [2, 2]'),\n",
       " Text(85.84615384615384, 108.72, 'gini = 0.0\\nsamples = 1\\nvalue = [1, 0]'),\n",
       " Text(87.99230769230769, 120.16421052631578, 'gini = 0.375\\nsamples = 4\\nvalue = [1, 3]'),\n",
       " Text(87.99230769230769, 143.05263157894737, 'gini = 0.0\\nsamples = 1\\nvalue = [1, 0]'),\n",
       " Text(87.99230769230769, 165.94105263157894, 'gini = 0.0\\nsamples = 3\\nvalue = [3, 0]'),\n",
       " Text(96.57692307692308, 177.38526315789474, 'X[0] <= 1.208\\ngini = 0.305\\nsamples = 16\\nvalue = [13, 3]'),\n",
       " Text(92.28461538461538, 165.94105263157894, 'X[1] <= 0.578\\ngini = 0.142\\nsamples = 13\\nvalue = [12, 1]'),\n",
       " Text(90.13846153846154, 154.49684210526317, 'gini = 0.0\\nsamples = 12\\nvalue = [12, 0]'),\n",
       " Text(94.43076923076923, 154.49684210526317, 'gini = 0.0\\nsamples = 1\\nvalue = [0, 1]'),\n",
       " Text(100.86923076923077, 165.94105263157894, 'X[3] <= -1.185\\ngini = 0.444\\nsamples = 3\\nvalue = [1, 2]'),\n",
       " Text(98.72307692307692, 154.49684210526317, 'gini = 0.0\\nsamples = 1\\nvalue = [1, 0]'),\n",
       " Text(103.01538461538462, 154.49684210526317, 'gini = 0.0\\nsamples = 2\\nvalue = [0, 2]'),\n",
       " Text(205.50890174278845, 200.2736842105263, 'X[0] <= 0.117\\ngini = 0.422\\nsamples = 374\\nvalue = [113, 261]'),\n",
       " Text(135.27056790865385, 188.82947368421054, 'X[1] <= 0.578\\ngini = 0.497\\nsamples = 152\\nvalue = [70, 82]'),\n",
       " Text(118.575, 177.38526315789474, 'X[0] <= -0.087\\ngini = 0.42\\nsamples = 50\\nvalue = [35, 15]'),\n",
       " Text(112.67307692307692, 165.94105263157894, 'X[0] <= -0.769\\ngini = 0.361\\nsamples = 38\\nvalue = [29, 9]'),\n",
       " Text(107.3076923076923, 154.49684210526317, 'X[1] <= -0.227\\ngini = 0.465\\nsamples = 19\\nvalue = [12, 7]'),\n",
       " Text(103.01538461538462, 143.05263157894737, 'X[2] <= 0.438\\ngini = 0.355\\nsamples = 13\\nvalue = [10, 3]'),\n",
       " Text(100.86923076923077, 131.60842105263157, 'gini = 0.0\\nsamples = 8\\nvalue = [8, 0]'),\n",
       " Text(105.16153846153846, 131.60842105263157, 'X[3] <= -1.185\\ngini = 0.48\\nsamples = 5\\nvalue = [2, 3]'),\n",
       " Text(103.01538461538462, 120.16421052631578, 'gini = 0.0\\nsamples = 1\\nvalue = [1, 0]'),\n",
       " Text(107.3076923076923, 120.16421052631578, 'X[0] <= -1.315\\ngini = 0.375\\nsamples = 4\\nvalue = [1, 3]'),\n",
       " Text(105.16153846153846, 108.72, 'X[0] <= -1.486\\ngini = 0.5\\nsamples = 2\\nvalue = [1, 1]'),\n",
       " Text(103.01538461538462, 97.27578947368421, 'gini = 0.0\\nsamples = 1\\nvalue = [0, 1]'),\n",
       " Text(107.3076923076923, 97.27578947368421, 'gini = 0.0\\nsamples = 1\\nvalue = [1, 0]'),\n",
       " Text(109.45384615384614, 108.72, 'gini = 0.0\\nsamples = 2\\nvalue = [0, 2]'),\n",
       " Text(111.6, 143.05263157894737, 'X[2] <= 0.438\\ngini = 0.444\\nsamples = 6\\nvalue = [2, 4]'),\n",
       " Text(109.45384615384614, 131.60842105263157, 'gini = 0.0\\nsamples = 2\\nvalue = [0, 2]'),\n",
       " Text(113.74615384615385, 131.60842105263157, 'X[0] <= -1.008\\ngini = 0.5\\nsamples = 4\\nvalue = [2, 2]'),\n",
       " Text(111.6, 120.16421052631578, 'gini = 0.0\\nsamples = 1\\nvalue = [1, 0]'),\n",
       " Text(115.89230769230768, 120.16421052631578, 'X[3] <= -1.185\\ngini = 0.444\\nsamples = 3\\nvalue = [1, 2]'),\n",
       " Text(113.74615384615385, 108.72, 'gini = 0.0\\nsamples = 1\\nvalue = [1, 0]'),\n",
       " Text(118.03846153846153, 108.72, 'gini = 0.0\\nsamples = 2\\nvalue = [0, 2]'),\n",
       " Text(118.03846153846153, 154.49684210526317, 'X[2] <= 1.077\\ngini = 0.188\\nsamples = 19\\nvalue = [17, 2]'),\n",
       " Text(115.89230769230768, 143.05263157894737, 'gini = 0.0\\nsamples = 16\\nvalue = [16, 0]'),\n",
       " Text(120.18461538461538, 143.05263157894737, 'X[1] <= -0.63\\ngini = 0.444\\nsamples = 3\\nvalue = [1, 2]'),\n",
       " Text(118.03846153846153, 131.60842105263157, 'gini = 0.0\\nsamples = 1\\nvalue = [1, 0]'),\n",
       " Text(122.33076923076922, 131.60842105263157, 'gini = 0.0\\nsamples = 2\\nvalue = [0, 2]'),\n",
       " Text(124.47692307692307, 165.94105263157894, 'X[2] <= 0.438\\ngini = 0.5\\nsamples = 12\\nvalue = [6, 6]'),\n",
       " Text(122.33076923076922, 154.49684210526317, 'gini = 0.0\\nsamples = 3\\nvalue = [0, 3]'),\n",
       " Text(126.62307692307692, 154.49684210526317, 'X[1] <= -1.032\\ngini = 0.444\\nsamples = 9\\nvalue = [6, 3]'),\n",
       " Text(124.47692307692307, 143.05263157894737, 'gini = 0.0\\nsamples = 1\\nvalue = [0, 1]'),\n",
       " Text(128.76923076923077, 143.05263157894737, 'X[0] <= 0.049\\ngini = 0.375\\nsamples = 8\\nvalue = [6, 2]'),\n",
       " Text(126.62307692307692, 131.60842105263157, 'X[3] <= -1.185\\ngini = 0.5\\nsamples = 4\\nvalue = [2, 2]'),\n",
       " Text(124.47692307692307, 120.16421052631578, 'gini = 0.0\\nsamples = 1\\nvalue = [1, 0]'),\n",
       " Text(128.76923076923077, 120.16421052631578, 'X[1] <= -0.227\\ngini = 0.444\\nsamples = 3\\nvalue = [1, 2]'),\n",
       " Text(126.62307692307692, 108.72, 'gini = 0.5\\nsamples = 2\\nvalue = [1, 1]'),\n",
       " Text(130.91538461538462, 108.72, 'gini = 0.0\\nsamples = 1\\nvalue = [0, 1]'),\n",
       " Text(130.91538461538462, 131.60842105263157, 'gini = 0.0\\nsamples = 4\\nvalue = [4, 0]'),\n",
       " Text(151.96613581730767, 177.38526315789474, 'X[0] <= -1.383\\ngini = 0.451\\nsamples = 102\\nvalue = [35, 67]'),\n",
       " Text(133.06153846153845, 165.94105263157894, 'X[3] <= -1.185\\ngini = 0.408\\nsamples = 7\\nvalue = [5, 2]'),\n",
       " Text(130.91538461538462, 154.49684210526317, 'gini = 0.0\\nsamples = 2\\nvalue = [0, 2]'),\n",
       " Text(135.2076923076923, 154.49684210526317, 'gini = 0.0\\nsamples = 5\\nvalue = [5, 0]'),\n",
       " Text(170.87073317307693, 165.94105263157894, 'X[0] <= -0.769\\ngini = 0.432\\nsamples = 95\\nvalue = [30, 65]'),\n",
       " Text(139.5, 154.49684210526317, 'X[0] <= -1.213\\ngini = 0.278\\nsamples = 18\\nvalue = [3, 15]'),\n",
       " Text(137.35384615384615, 143.05263157894737, 'gini = 0.0\\nsamples = 3\\nvalue = [0, 3]'),\n",
       " Text(141.64615384615385, 143.05263157894737, 'X[0] <= -1.11\\ngini = 0.32\\nsamples = 15\\nvalue = [3, 12]'),\n",
       " Text(139.5, 131.60842105263157, 'gini = 0.0\\nsamples = 1\\nvalue = [1, 0]'),\n",
       " Text(143.79230769230767, 131.60842105263157, 'X[0] <= -0.974\\ngini = 0.245\\nsamples = 14\\nvalue = [2, 12]'),\n",
       " Text(141.64615384615385, 120.16421052631578, 'gini = 0.0\\nsamples = 4\\nvalue = [0, 4]'),\n",
       " Text(145.93846153846152, 120.16421052631578, 'X[2] <= 0.438\\ngini = 0.32\\nsamples = 10\\nvalue = [2, 8]'),\n",
       " Text(143.79230769230767, 108.72, 'gini = 0.0\\nsamples = 2\\nvalue = [0, 2]'),\n",
       " Text(148.08461538461538, 108.72, 'X[3] <= -1.185\\ngini = 0.375\\nsamples = 8\\nvalue = [2, 6]'),\n",
       " Text(145.93846153846152, 97.27578947368421, 'gini = 0.0\\nsamples = 1\\nvalue = [0, 1]'),\n",
       " Text(150.23076923076923, 97.27578947368421, 'X[0] <= -0.872\\ngini = 0.408\\nsamples = 7\\nvalue = [2, 5]'),\n",
       " Text(145.93846153846152, 85.83157894736843, 'X[2] <= 1.077\\ngini = 0.444\\nsamples = 3\\nvalue = [1, 2]'),\n",
       " Text(143.79230769230767, 74.38736842105263, 'gini = 0.0\\nsamples = 2\\nvalue = [0, 2]'),\n",
       " Text(148.08461538461538, 74.38736842105263, 'gini = 0.0\\nsamples = 1\\nvalue = [1, 0]'),\n",
       " Text(154.52307692307693, 85.83157894736843, 'X[2] <= 1.077\\ngini = 0.375\\nsamples = 4\\nvalue = [1, 3]'),\n",
       " Text(152.37692307692308, 74.38736842105263, 'gini = 0.0\\nsamples = 1\\nvalue = [1, 0]'),\n",
       " Text(156.66923076923075, 74.38736842105263, 'gini = 0.0\\nsamples = 3\\nvalue = [0, 3]'),\n",
       " Text(202.24146634615383, 154.49684210526317, 'X[3] <= -1.185\\ngini = 0.455\\nsamples = 77\\nvalue = [27, 50]'),\n",
       " Text(200.0953125, 143.05263157894737, 'gini = 0.0\\nsamples = 3\\nvalue = [0, 3]'),\n",
       " Text(204.38762019230768, 143.05263157894737, 'X[3] <= 1.666\\ngini = 0.463\\nsamples = 74\\nvalue = [27, 47]'),\n",
       " Text(202.24146634615383, 131.60842105263157, 'X[0] <= -0.019\\ngini = 0.471\\nsamples = 71\\nvalue = [27, 44]'),\n",
       " Text(190.94062499999998, 120.16421052631578, 'X[0] <= -0.156\\ngini = 0.455\\nsamples = 60\\nvalue = [21, 39]'),\n",
       " Text(181.21586538461537, 108.72, 'X[0] <= -0.224\\ngini = 0.476\\nsamples = 46\\nvalue = [18, 28]'),\n",
       " Text(174.64326923076922, 97.27578947368421, 'X[0] <= -0.292\\ngini = 0.444\\nsamples = 39\\nvalue = [13, 26]'),\n",
       " Text(167.93653846153845, 85.83157894736843, 'X[2] <= 1.077\\ngini = 0.48\\nsamples = 30\\nvalue = [12, 18]'),\n",
       " Text(160.96153846153845, 74.38736842105263, 'X[2] <= -0.2\\ngini = 0.499\\nsamples = 21\\nvalue = [10, 11]'),\n",
       " Text(158.8153846153846, 62.943157894736856, 'gini = 0.0\\nsamples = 1\\nvalue = [0, 1]'),\n",
       " Text(163.1076923076923, 62.943157894736856, 'X[0] <= -0.701\\ngini = 0.5\\nsamples = 20\\nvalue = [10, 10]'),\n",
       " Text(160.96153846153845, 51.49894736842106, 'gini = 0.0\\nsamples = 1\\nvalue = [1, 0]'),\n",
       " Text(165.25384615384615, 51.49894736842106, 'X[0] <= -0.497\\ngini = 0.499\\nsamples = 19\\nvalue = [9, 10]'),\n",
       " Text(157.7423076923077, 40.05473684210526, 'X[2] <= 0.438\\ngini = 0.469\\nsamples = 8\\nvalue = [3, 5]'),\n",
       " Text(155.59615384615384, 28.610526315789485, 'gini = 0.0\\nsamples = 1\\nvalue = [1, 0]'),\n",
       " Text(159.88846153846154, 28.610526315789485, 'X[0] <= -0.633\\ngini = 0.408\\nsamples = 7\\nvalue = [2, 5]'),\n",
       " Text(157.7423076923077, 17.166315789473686, 'gini = 0.0\\nsamples = 2\\nvalue = [0, 2]'),\n",
       " Text(162.0346153846154, 17.166315789473686, 'X[0] <= -0.565\\ngini = 0.48\\nsamples = 5\\nvalue = [2, 3]'),\n",
       " Text(159.88846153846154, 5.722105263157886, 'gini = 0.0\\nsamples = 1\\nvalue = [1, 0]'),\n",
       " Text(164.18076923076922, 5.722105263157886, 'gini = 0.375\\nsamples = 4\\nvalue = [1, 3]'),\n",
       " Text(172.76538461538462, 40.05473684210526, 'X[0] <= -0.428\\ngini = 0.496\\nsamples = 11\\nvalue = [6, 5]'),\n",
       " Text(170.61923076923077, 28.610526315789485, 'gini = 0.444\\nsamples = 6\\nvalue = [4, 2]'),\n",
       " Text(174.91153846153844, 28.610526315789485, 'X[2] <= 0.438\\ngini = 0.48\\nsamples = 5\\nvalue = [2, 3]'),\n",
       " Text(170.61923076923077, 17.166315789473686, 'X[0] <= -0.36\\ngini = 0.444\\nsamples = 3\\nvalue = [1, 2]'),\n",
       " Text(168.47307692307692, 5.722105263157886, 'gini = 0.0\\nsamples = 2\\nvalue = [0, 2]'),\n",
       " Text(172.76538461538462, 5.722105263157886, 'gini = 0.0\\nsamples = 1\\nvalue = [1, 0]'),\n",
       " Text(179.20384615384614, 17.166315789473686, 'X[0] <= -0.36\\ngini = 0.5\\nsamples = 2\\nvalue = [1, 1]'),\n",
       " Text(177.0576923076923, 5.722105263157886, 'gini = 0.0\\nsamples = 1\\nvalue = [1, 0]'),\n",
       " Text(181.35, 5.722105263157886, 'gini = 0.0\\nsamples = 1\\nvalue = [0, 1]'),\n",
       " Text(174.91153846153844, 74.38736842105263, 'X[0] <= -0.633\\ngini = 0.346\\nsamples = 9\\nvalue = [2, 7]'),\n",
       " Text(172.76538461538462, 62.943157894736856, 'gini = 0.0\\nsamples = 2\\nvalue = [0, 2]'),\n",
       " Text(177.0576923076923, 62.943157894736856, 'X[0] <= -0.531\\ngini = 0.408\\nsamples = 7\\nvalue = [2, 5]'),\n",
       " Text(174.91153846153844, 51.49894736842106, 'gini = 0.0\\nsamples = 1\\nvalue = [1, 0]'),\n",
       " Text(179.20384615384614, 51.49894736842106, 'X[0] <= -0.428\\ngini = 0.278\\nsamples = 6\\nvalue = [1, 5]'),\n",
       " Text(177.0576923076923, 40.05473684210526, 'gini = 0.0\\nsamples = 1\\nvalue = [0, 1]'),\n",
       " Text(181.35, 40.05473684210526, 'X[0] <= -0.36\\ngini = 0.32\\nsamples = 5\\nvalue = [1, 4]'),\n",
       " Text(179.20384615384614, 28.610526315789485, 'gini = 0.375\\nsamples = 4\\nvalue = [1, 3]'),\n",
       " Text(183.49615384615385, 28.610526315789485, 'gini = 0.0\\nsamples = 1\\nvalue = [0, 1]'),\n",
       " Text(181.35, 85.83157894736843, 'X[2] <= 1.077\\ngini = 0.198\\nsamples = 9\\nvalue = [1, 8]'),\n",
       " Text(179.20384615384614, 74.38736842105263, 'gini = 0.0\\nsamples = 7\\nvalue = [0, 7]'),\n",
       " Text(183.49615384615385, 74.38736842105263, 'gini = 0.5\\nsamples = 2\\nvalue = [1, 1]'),\n",
       " Text(187.78846153846152, 97.27578947368421, 'X[2] <= 0.438\\ngini = 0.408\\nsamples = 7\\nvalue = [5, 2]'),\n",
       " Text(185.6423076923077, 85.83157894736843, 'gini = 0.5\\nsamples = 2\\nvalue = [1, 1]'),\n",
       " Text(189.93461538461537, 85.83157894736843, 'X[2] <= 1.077\\ngini = 0.32\\nsamples = 5\\nvalue = [4, 1]'),\n",
       " Text(187.78846153846152, 74.38736842105263, 'gini = 0.0\\nsamples = 2\\nvalue = [2, 0]'),\n",
       " Text(192.08076923076922, 74.38736842105263, 'gini = 0.444\\nsamples = 3\\nvalue = [2, 1]'),\n",
       " Text(200.6653846153846, 108.72, 'X[2] <= 0.438\\ngini = 0.337\\nsamples = 14\\nvalue = [3, 11]'),\n",
       " Text(196.37307692307692, 97.27578947368421, 'X[0] <= -0.087\\ngini = 0.5\\nsamples = 2\\nvalue = [1, 1]'),\n",
       " Text(194.22692307692307, 85.83157894736843, 'gini = 0.0\\nsamples = 1\\nvalue = [1, 0]'),\n",
       " Text(198.51923076923077, 85.83157894736843, 'gini = 0.0\\nsamples = 1\\nvalue = [0, 1]'),\n",
       " Text(204.9576923076923, 97.27578947368421, 'X[0] <= -0.087\\ngini = 0.278\\nsamples = 12\\nvalue = [2, 10]'),\n",
       " Text(202.81153846153845, 85.83157894736843, 'gini = 0.0\\nsamples = 5\\nvalue = [0, 5]'),\n",
       " Text(207.10384615384615, 85.83157894736843, 'X[2] <= 1.077\\ngini = 0.408\\nsamples = 7\\nvalue = [2, 5]'),\n",
       " Text(204.9576923076923, 74.38736842105263, 'gini = 0.375\\nsamples = 4\\nvalue = [1, 3]'),\n",
       " Text(209.25, 74.38736842105263, 'gini = 0.444\\nsamples = 3\\nvalue = [1, 2]'),\n",
       " Text(213.54230769230767, 120.16421052631578, 'X[2] <= 1.077\\ngini = 0.496\\nsamples = 11\\nvalue = [6, 5]'),\n",
       " Text(211.39615384615385, 108.72, 'X[0] <= 0.049\\ngini = 0.444\\nsamples = 9\\nvalue = [6, 3]'),\n",
       " Text(209.25, 97.27578947368421, 'gini = 0.0\\nsamples = 3\\nvalue = [3, 0]'),\n",
       " Text(213.54230769230767, 97.27578947368421, 'X[2] <= 0.438\\ngini = 0.5\\nsamples = 6\\nvalue = [3, 3]'),\n",
       " Text(211.39615384615385, 85.83157894736843, 'gini = 0.444\\nsamples = 3\\nvalue = [1, 2]'),\n",
       " Text(215.68846153846152, 85.83157894736843, 'gini = 0.444\\nsamples = 3\\nvalue = [2, 1]'),\n",
       " Text(215.68846153846152, 108.72, 'gini = 0.0\\nsamples = 2\\nvalue = [0, 2]'),\n",
       " Text(206.53377403846153, 131.60842105263157, 'gini = 0.0\\nsamples = 3\\nvalue = [0, 3]'),\n",
       " Text(275.74723557692306, 188.82947368421054, 'X[0] <= 0.936\\ngini = 0.312\\nsamples = 222\\nvalue = [43, 179]'),\n",
       " Text(244.72860576923077, 177.38526315789474, 'X[1] <= 0.578\\ngini = 0.388\\nsamples = 129\\nvalue = [34, 95]'),\n",
       " Text(226.41923076923075, 165.94105263157894, 'X[2] <= 0.438\\ngini = 0.478\\nsamples = 33\\nvalue = [13, 20]'),\n",
       " Text(219.98076923076923, 154.49684210526317, 'X[1] <= -0.227\\ngini = 0.444\\nsamples = 9\\nvalue = [6, 3]'),\n",
       " Text(217.83461538461538, 143.05263157894737, 'gini = 0.0\\nsamples = 2\\nvalue = [2, 0]'),\n",
       " Text(222.12692307692308, 143.05263157894737, 'X[0] <= 0.663\\ngini = 0.49\\nsamples = 7\\nvalue = [4, 3]'),\n",
       " Text(219.98076923076923, 131.60842105263157, 'X[0] <= 0.526\\ngini = 0.5\\nsamples = 6\\nvalue = [3, 3]'),\n",
       " Text(217.83461538461538, 120.16421052631578, 'gini = 0.444\\nsamples = 3\\nvalue = [2, 1]'),\n",
       " Text(222.12692307692308, 120.16421052631578, 'gini = 0.444\\nsamples = 3\\nvalue = [1, 2]'),\n",
       " Text(224.27307692307693, 131.60842105263157, 'gini = 0.0\\nsamples = 1\\nvalue = [1, 0]'),\n",
       " Text(232.8576923076923, 154.49684210526317, 'X[2] <= 1.077\\ngini = 0.413\\nsamples = 24\\nvalue = [7, 17]'),\n",
       " Text(230.71153846153845, 143.05263157894737, 'X[3] <= -4.036\\ngini = 0.465\\nsamples = 19\\nvalue = [7, 12]'),\n",
       " Text(228.5653846153846, 131.60842105263157, 'gini = 0.0\\nsamples = 1\\nvalue = [1, 0]'),\n",
       " Text(232.8576923076923, 131.60842105263157, 'X[0] <= 0.595\\ngini = 0.444\\nsamples = 18\\nvalue = [6, 12]'),\n",
       " Text(228.5653846153846, 120.16421052631578, 'X[0] <= 0.185\\ngini = 0.5\\nsamples = 10\\nvalue = [5, 5]'),\n",
       " Text(226.41923076923075, 108.72, 'gini = 0.0\\nsamples = 1\\nvalue = [0, 1]'),\n",
       " Text(230.71153846153845, 108.72, 'X[1] <= -1.032\\ngini = 0.494\\nsamples = 9\\nvalue = [5, 4]'),\n",
       " Text(228.5653846153846, 97.27578947368421, 'gini = 0.0\\nsamples = 1\\nvalue = [1, 0]'),\n",
       " Text(232.8576923076923, 97.27578947368421, 'X[0] <= 0.288\\ngini = 0.5\\nsamples = 8\\nvalue = [4, 4]'),\n",
       " Text(230.71153846153845, 85.83157894736843, 'gini = 0.0\\nsamples = 1\\nvalue = [1, 0]'),\n",
       " Text(235.00384615384615, 85.83157894736843, 'X[0] <= 0.39\\ngini = 0.49\\nsamples = 7\\nvalue = [3, 4]'),\n",
       " Text(230.71153846153845, 74.38736842105263, 'X[1] <= -0.227\\ngini = 0.444\\nsamples = 3\\nvalue = [1, 2]'),\n",
       " Text(228.5653846153846, 62.943157894736856, 'gini = 0.0\\nsamples = 2\\nvalue = [0, 2]'),\n",
       " Text(232.8576923076923, 62.943157894736856, 'gini = 0.0\\nsamples = 1\\nvalue = [1, 0]'),\n",
       " Text(239.29615384615383, 74.38736842105263, 'X[1] <= -0.227\\ngini = 0.5\\nsamples = 4\\nvalue = [2, 2]'),\n",
       " Text(237.15, 62.943157894736856, 'X[0] <= 0.492\\ngini = 0.444\\nsamples = 3\\nvalue = [2, 1]'),\n",
       " Text(235.00384615384615, 51.49894736842106, 'gini = 0.0\\nsamples = 1\\nvalue = [1, 0]'),\n",
       " Text(239.29615384615383, 51.49894736842106, 'gini = 0.5\\nsamples = 2\\nvalue = [1, 1]'),\n",
       " Text(241.44230769230768, 62.943157894736856, 'gini = 0.0\\nsamples = 1\\nvalue = [0, 1]'),\n",
       " Text(237.15, 120.16421052631578, 'X[0] <= 0.833\\ngini = 0.219\\nsamples = 8\\nvalue = [1, 7]'),\n",
       " Text(235.00384615384615, 108.72, 'gini = 0.0\\nsamples = 5\\nvalue = [0, 5]'),\n",
       " Text(239.29615384615383, 108.72, 'X[1] <= -0.227\\ngini = 0.444\\nsamples = 3\\nvalue = [1, 2]'),\n",
       " Text(237.15, 97.27578947368421, 'gini = 0.0\\nsamples = 1\\nvalue = [0, 1]'),\n",
       " Text(241.44230769230768, 97.27578947368421, 'gini = 0.5\\nsamples = 2\\nvalue = [1, 1]'),\n",
       " Text(235.00384615384615, 143.05263157894737, 'gini = 0.0\\nsamples = 5\\nvalue = [0, 5]'),\n",
       " Text(263.0379807692308, 165.94105263157894, 'X[2] <= -0.2\\ngini = 0.342\\nsamples = 96\\nvalue = [21, 75]'),\n",
       " Text(260.8918269230769, 154.49684210526317, 'gini = 0.0\\nsamples = 1\\nvalue = [1, 0]'),\n",
       " Text(265.1841346153846, 154.49684210526317, 'X[3] <= 1.666\\ngini = 0.332\\nsamples = 95\\nvalue = [20, 75]'),\n",
       " Text(263.0379807692308, 143.05263157894737, 'X[0] <= 0.867\\ngini = 0.323\\nsamples = 94\\nvalue = [19, 75]'),\n",
       " Text(258.7456730769231, 131.60842105263157, 'X[3] <= -1.185\\ngini = 0.315\\nsamples = 92\\nvalue = [18, 74]'),\n",
       " Text(256.5995192307692, 120.16421052631578, 'gini = 0.0\\nsamples = 4\\nvalue = [0, 4]'),\n",
       " Text(260.8918269230769, 120.16421052631578, 'X[0] <= 0.185\\ngini = 0.325\\nsamples = 88\\nvalue = [18, 70]'),\n",
       " Text(247.88076923076923, 108.72, 'X[2] <= 0.438\\ngini = 0.444\\nsamples = 9\\nvalue = [3, 6]'),\n",
       " Text(245.73461538461538, 97.27578947368421, 'gini = 0.0\\nsamples = 1\\nvalue = [1, 0]'),\n",
       " Text(250.02692307692305, 97.27578947368421, 'X[2] <= 1.077\\ngini = 0.375\\nsamples = 8\\nvalue = [2, 6]'),\n",
       " Text(247.88076923076923, 85.83157894736843, 'gini = 0.375\\nsamples = 4\\nvalue = [1, 3]'),\n",
       " Text(252.1730769230769, 85.83157894736843, 'gini = 0.375\\nsamples = 4\\nvalue = [1, 3]'),\n",
       " Text(273.9028846153846, 108.72, 'X[2] <= 1.077\\ngini = 0.308\\nsamples = 79\\nvalue = [15, 64]'),\n",
       " Text(262.3673076923077, 97.27578947368421, 'X[0] <= 0.663\\ngini = 0.329\\nsamples = 53\\nvalue = [11, 42]'),\n",
       " Text(256.4653846153846, 85.83157894736843, 'X[0] <= 0.595\\ngini = 0.375\\nsamples = 32\\nvalue = [8, 24]'),\n",
       " Text(251.1, 74.38736842105263, 'X[0] <= 0.39\\ngini = 0.346\\nsamples = 27\\nvalue = [6, 21]'),\n",
       " Text(246.8076923076923, 62.943157894736856, 'X[0] <= 0.322\\ngini = 0.298\\nsamples = 11\\nvalue = [2, 9]'),\n",
       " Text(244.66153846153844, 51.49894736842106, 'X[0] <= 0.254\\ngini = 0.32\\nsamples = 10\\nvalue = [2, 8]'),\n",
       " Text(240.36923076923077, 40.05473684210526, 'X[2] <= 0.438\\ngini = 0.375\\nsamples = 4\\nvalue = [1, 3]'),\n",
       " Text(238.22307692307692, 28.610526315789485, 'gini = 0.0\\nsamples = 1\\nvalue = [0, 1]'),\n",
       " Text(242.51538461538462, 28.610526315789485, 'gini = 0.444\\nsamples = 3\\nvalue = [1, 2]'),\n",
       " Text(248.95384615384614, 40.05473684210526, 'X[2] <= 0.438\\ngini = 0.278\\nsamples = 6\\nvalue = [1, 5]'),\n",
       " Text(246.8076923076923, 28.610526315789485, 'gini = 0.444\\nsamples = 3\\nvalue = [1, 2]'),\n",
       " Text(251.1, 28.610526315789485, 'gini = 0.0\\nsamples = 3\\nvalue = [0, 3]'),\n",
       " Text(248.95384615384614, 51.49894736842106, 'gini = 0.0\\nsamples = 1\\nvalue = [0, 1]'),\n",
       " Text(255.3923076923077, 62.943157894736856, 'X[2] <= 0.438\\ngini = 0.375\\nsamples = 16\\nvalue = [4, 12]'),\n",
       " Text(253.24615384615385, 51.49894736842106, 'gini = 0.0\\nsamples = 2\\nvalue = [0, 2]'),\n",
       " Text(257.53846153846155, 51.49894736842106, 'X[0] <= 0.458\\ngini = 0.408\\nsamples = 14\\nvalue = [4, 10]'),\n",
       " Text(255.3923076923077, 40.05473684210526, 'gini = 0.5\\nsamples = 2\\nvalue = [1, 1]'),\n",
       " Text(259.68461538461537, 40.05473684210526, 'X[0] <= 0.526\\ngini = 0.375\\nsamples = 12\\nvalue = [3, 9]'),\n",
       " Text(257.53846153846155, 28.610526315789485, 'gini = 0.375\\nsamples = 8\\nvalue = [2, 6]'),\n",
       " Text(261.83076923076925, 28.610526315789485, 'gini = 0.375\\nsamples = 4\\nvalue = [1, 3]'),\n",
       " Text(261.83076923076925, 74.38736842105263, 'X[2] <= 0.438\\ngini = 0.48\\nsamples = 5\\nvalue = [2, 3]'),\n",
       " Text(259.68461538461537, 62.943157894736856, 'gini = 0.5\\nsamples = 2\\nvalue = [1, 1]'),\n",
       " Text(263.9769230769231, 62.943157894736856, 'gini = 0.444\\nsamples = 3\\nvalue = [1, 2]'),\n",
       " Text(268.2692307692308, 85.83157894736843, 'X[0] <= 0.731\\ngini = 0.245\\nsamples = 21\\nvalue = [3, 18]'),\n",
       " Text(266.1230769230769, 74.38736842105263, 'gini = 0.0\\nsamples = 7\\nvalue = [0, 7]'),\n",
       " Text(270.4153846153846, 74.38736842105263, 'X[2] <= 0.438\\ngini = 0.337\\nsamples = 14\\nvalue = [3, 11]'),\n",
       " Text(268.2692307692308, 62.943157894736856, 'gini = 0.0\\nsamples = 4\\nvalue = [0, 4]'),\n",
       " Text(272.5615384615385, 62.943157894736856, 'X[0] <= 0.799\\ngini = 0.42\\nsamples = 10\\nvalue = [3, 7]'),\n",
       " Text(270.4153846153846, 51.49894736842106, 'gini = 0.32\\nsamples = 5\\nvalue = [1, 4]'),\n",
       " Text(274.7076923076923, 51.49894736842106, 'gini = 0.48\\nsamples = 5\\nvalue = [2, 3]'),\n",
       " Text(285.4384615384615, 97.27578947368421, 'X[0] <= 0.663\\ngini = 0.26\\nsamples = 26\\nvalue = [4, 22]'),\n",
       " Text(281.1461538461538, 85.83157894736843, 'X[0] <= 0.322\\ngini = 0.117\\nsamples = 16\\nvalue = [1, 15]'),\n",
       " Text(279.0, 74.38736842105263, 'X[0] <= 0.254\\ngini = 0.444\\nsamples = 3\\nvalue = [1, 2]'),\n",
       " Text(276.8538461538461, 62.943157894736856, 'gini = 0.0\\nsamples = 1\\nvalue = [0, 1]'),\n",
       " Text(281.1461538461538, 62.943157894736856, 'gini = 0.5\\nsamples = 2\\nvalue = [1, 1]'),\n",
       " Text(283.2923076923077, 74.38736842105263, 'gini = 0.0\\nsamples = 13\\nvalue = [0, 13]'),\n",
       " Text(289.7307692307692, 85.83157894736843, 'X[0] <= 0.731\\ngini = 0.42\\nsamples = 10\\nvalue = [3, 7]'),\n",
       " Text(287.58461538461535, 74.38736842105263, 'gini = 0.0\\nsamples = 1\\nvalue = [1, 0]'),\n",
       " Text(291.87692307692305, 74.38736842105263, 'X[0] <= 0.799\\ngini = 0.346\\nsamples = 9\\nvalue = [2, 7]'),\n",
       " Text(289.7307692307692, 62.943157894736856, 'gini = 0.444\\nsamples = 6\\nvalue = [2, 4]'),\n",
       " Text(294.0230769230769, 62.943157894736856, 'gini = 0.0\\nsamples = 3\\nvalue = [0, 3]'),\n",
       " Text(267.33028846153843, 131.60842105263157, 'X[2] <= 0.438\\ngini = 0.5\\nsamples = 2\\nvalue = [1, 1]'),\n",
       " Text(265.1841346153846, 120.16421052631578, 'gini = 0.0\\nsamples = 1\\nvalue = [0, 1]'),\n",
       " Text(269.4764423076923, 120.16421052631578, 'gini = 0.0\\nsamples = 1\\nvalue = [1, 0]'),\n",
       " Text(267.33028846153843, 143.05263157894737, 'gini = 0.0\\nsamples = 1\\nvalue = [1, 0]'),\n",
       " Text(306.7658653846154, 177.38526315789474, 'X[1] <= -0.227\\ngini = 0.175\\nsamples = 93\\nvalue = [9, 84]'),\n",
       " Text(290.80384615384617, 165.94105263157894, 'X[2] <= 0.438\\ngini = 0.42\\nsamples = 10\\nvalue = [3, 7]'),\n",
       " Text(286.51153846153846, 154.49684210526317, 'X[0] <= 1.038\\ngini = 0.444\\nsamples = 3\\nvalue = [2, 1]'),\n",
       " Text(284.3653846153846, 143.05263157894737, 'gini = 0.0\\nsamples = 1\\nvalue = [0, 1]'),\n",
       " Text(288.6576923076923, 143.05263157894737, 'gini = 0.0\\nsamples = 2\\nvalue = [2, 0]'),\n",
       " Text(295.0961538461538, 154.49684210526317, 'X[1] <= -1.032\\ngini = 0.245\\nsamples = 7\\nvalue = [1, 6]'),\n",
       " Text(292.95, 143.05263157894737, 'gini = 0.0\\nsamples = 5\\nvalue = [0, 5]'),\n",
       " Text(297.2423076923077, 143.05263157894737, 'X[0] <= 1.072\\ngini = 0.5\\nsamples = 2\\nvalue = [1, 1]'),\n",
       " Text(295.0961538461538, 131.60842105263157, 'gini = 0.0\\nsamples = 1\\nvalue = [0, 1]'),\n",
       " Text(299.3884615384615, 131.60842105263157, 'gini = 0.0\\nsamples = 1\\nvalue = [1, 0]'),\n",
       " Text(322.7278846153846, 165.94105263157894, 'X[3] <= 1.666\\ngini = 0.134\\nsamples = 83\\nvalue = [6, 77]'),\n",
       " Text(314.94807692307694, 154.49684210526317, 'X[0] <= 1.89\\ngini = 0.116\\nsamples = 81\\nvalue = [5, 76]'),\n",
       " Text(305.8269230769231, 143.05263157894737, 'X[0] <= 1.413\\ngini = 0.087\\nsamples = 66\\nvalue = [3, 63]'),\n",
       " Text(303.6807692307692, 131.60842105263157, 'X[0] <= 1.004\\ngini = 0.124\\nsamples = 45\\nvalue = [3, 42]'),\n",
       " Text(301.5346153846154, 120.16421052631578, 'gini = 0.0\\nsamples = 6\\nvalue = [0, 6]'),\n",
       " Text(305.8269230769231, 120.16421052631578, 'X[0] <= 1.14\\ngini = 0.142\\nsamples = 39\\nvalue = [3, 36]'),\n",
       " Text(300.46153846153845, 108.72, 'X[2] <= 1.077\\ngini = 0.198\\nsamples = 18\\nvalue = [2, 16]'),\n",
       " Text(296.16923076923075, 97.27578947368421, 'X[0] <= 1.072\\ngini = 0.142\\nsamples = 13\\nvalue = [1, 12]'),\n",
       " Text(294.0230769230769, 85.83157894736843, 'gini = 0.0\\nsamples = 6\\nvalue = [0, 6]'),\n",
       " Text(298.31538461538463, 85.83157894736843, 'X[2] <= -0.2\\ngini = 0.245\\nsamples = 7\\nvalue = [1, 6]'),\n",
       " Text(296.16923076923075, 74.38736842105263, 'gini = 0.0\\nsamples = 2\\nvalue = [0, 2]'),\n",
       " Text(300.46153846153845, 74.38736842105263, 'X[2] <= 0.438\\ngini = 0.32\\nsamples = 5\\nvalue = [1, 4]'),\n",
       " Text(298.31538461538463, 62.943157894736856, 'gini = 0.444\\nsamples = 3\\nvalue = [1, 2]'),\n",
       " Text(302.6076923076923, 62.943157894736856, 'gini = 0.0\\nsamples = 2\\nvalue = [0, 2]'),\n",
       " Text(304.75384615384615, 97.27578947368421, 'X[0] <= 1.072\\ngini = 0.32\\nsamples = 5\\nvalue = [1, 4]'),\n",
       " Text(302.6076923076923, 85.83157894736843, 'gini = 0.375\\nsamples = 4\\nvalue = [1, 3]'),\n",
       " Text(306.9, 85.83157894736843, 'gini = 0.0\\nsamples = 1\\nvalue = [0, 1]'),\n",
       " Text(311.1923076923077, 108.72, 'X[0] <= 1.345\\ngini = 0.091\\nsamples = 21\\nvalue = [1, 20]'),\n",
       " Text(309.04615384615386, 97.27578947368421, 'gini = 0.0\\nsamples = 12\\nvalue = [0, 12]'),\n",
       " Text(313.3384615384615, 97.27578947368421, 'X[2] <= 0.438\\ngini = 0.198\\nsamples = 9\\nvalue = [1, 8]'),\n",
       " Text(311.1923076923077, 85.83157894736843, 'gini = 0.0\\nsamples = 3\\nvalue = [0, 3]'),\n",
       " Text(315.4846153846154, 85.83157894736843, 'X[2] <= 1.077\\ngini = 0.278\\nsamples = 6\\nvalue = [1, 5]'),\n",
       " Text(313.3384615384615, 74.38736842105263, 'gini = 0.375\\nsamples = 4\\nvalue = [1, 3]'),\n",
       " Text(317.6307692307692, 74.38736842105263, 'gini = 0.0\\nsamples = 2\\nvalue = [0, 2]'),\n",
       " Text(307.9730769230769, 131.60842105263157, 'gini = 0.0\\nsamples = 21\\nvalue = [0, 21]'),\n",
       " Text(324.0692307692308, 143.05263157894737, 'X[0] <= 2.095\\ngini = 0.231\\nsamples = 15\\nvalue = [2, 13]'),\n",
       " Text(321.9230769230769, 131.60842105263157, 'X[1] <= 0.578\\ngini = 0.346\\nsamples = 9\\nvalue = [2, 7]'),\n",
       " Text(319.7769230769231, 120.16421052631578, 'gini = 0.0\\nsamples = 3\\nvalue = [0, 3]'),\n",
       " Text(324.0692307692308, 120.16421052631578, 'X[2] <= 0.438\\ngini = 0.444\\nsamples = 6\\nvalue = [2, 4]'),\n",
       " Text(321.9230769230769, 108.72, 'gini = 0.0\\nsamples = 1\\nvalue = [0, 1]'),\n",
       " Text(326.2153846153846, 108.72, 'X[2] <= 1.077\\ngini = 0.48\\nsamples = 5\\nvalue = [2, 3]'),\n",
       " Text(321.9230769230769, 97.27578947368421, 'X[0] <= 2.027\\ngini = 0.5\\nsamples = 2\\nvalue = [1, 1]'),\n",
       " Text(319.7769230769231, 85.83157894736843, 'gini = 0.0\\nsamples = 1\\nvalue = [0, 1]'),\n",
       " Text(324.0692307692308, 85.83157894736843, 'gini = 0.0\\nsamples = 1\\nvalue = [1, 0]'),\n",
       " Text(330.5076923076923, 97.27578947368421, 'X[0] <= 1.993\\ngini = 0.444\\nsamples = 3\\nvalue = [1, 2]'),\n",
       " Text(328.36153846153843, 85.83157894736843, 'gini = 0.5\\nsamples = 2\\nvalue = [1, 1]'),\n",
       " Text(332.65384615384613, 85.83157894736843, 'gini = 0.0\\nsamples = 1\\nvalue = [0, 1]'),\n",
       " Text(326.2153846153846, 131.60842105263157, 'gini = 0.0\\nsamples = 6\\nvalue = [0, 6]'),\n",
       " Text(330.5076923076923, 154.49684210526317, 'X[0] <= 1.242\\ngini = 0.5\\nsamples = 2\\nvalue = [1, 1]'),\n",
       " Text(328.36153846153843, 143.05263157894737, 'gini = 0.0\\nsamples = 1\\nvalue = [0, 1]'),\n",
       " Text(332.65384615384613, 143.05263157894737, 'gini = 0.0\\nsamples = 1\\nvalue = [1, 0]')]"
      ]
     },
     "execution_count": 68,
     "metadata": {},
     "output_type": "execute_result"
    },
    {
     "data": {
      "image/png": "[encoded data removed]",
      "text/plain": [
       "<Figure size 432x288 with 1 Axes>"
      ]
     },
     "metadata": {
      "needs_background": "light"
     },
     "output_type": "display_data"
    }
   ],
   "source": [
    "from sklearn import tree\n",
    "\n",
    "tree.plot_tree(decision_tree.fit(X_train, y_train))"
   ]
  },
  {
   "cell_type": "markdown",
   "metadata": {},
   "source": [
    "Measure the accuracy of the resulting decision tree model using your test data."
   ]
  },
  {
   "cell_type": "code",
   "execution_count": 69,
   "metadata": {},
   "outputs": [],
   "source": [
    "from sklearn.metrics import accuracy_score\n",
    "\n",
    "decision_tree_output = decision_tree.predict(X_test)\n",
    "\n",
    "\n"
   ]
  },
  {
   "cell_type": "code",
   "execution_count": 70,
   "metadata": {},
   "outputs": [
    {
     "name": "stdout",
     "output_type": "stream",
     "text": [
      "0.7307692307692307\n"
     ]
    }
   ],
   "source": [
    "decision_tree_accuracy = accuracy_score(decision_tree_output, y_test)\n",
    "\n",
    "print(decision_tree_accuracy)"
   ]
  },
  {
   "cell_type": "markdown",
   "metadata": {},
   "source": [
    "Now instead of a single train/test split, use K-Fold cross validation to get a better measure of your model's accuracy (K=10). Hint: use model_selection.cross_val_score"
   ]
  },
  {
   "cell_type": "code",
   "execution_count": 73,
   "metadata": {},
   "outputs": [
    {
     "name": "stdout",
     "output_type": "stream",
     "text": [
      "0.7397590361445783\n"
     ]
    }
   ],
   "source": [
    "from sklearn.model_selection import cross_val_score\n",
    "\n",
    "\n",
    "decision_tree_cross_val_score = cross_val_score(decision_tree, X_data_fitted, y_data, cv=10)\n",
    "\n",
    "print(decision_tree_cross_val_score.mean())"
   ]
  },
  {
   "cell_type": "markdown",
   "metadata": {},
   "source": [
    "Now try a RandomForestClassifier instead. Does it perform better?"
   ]
  },
  {
   "cell_type": "code",
   "execution_count": 75,
   "metadata": {},
   "outputs": [
    {
     "data": {
      "text/plain": [
       "RandomForestClassifier(bootstrap=True, ccp_alpha=0.0, class_weight=None,\n",
       "                       criterion='gini', max_depth=None, max_features='auto',\n",
       "                       max_leaf_nodes=None, max_samples=None,\n",
       "                       min_impurity_decrease=0.0, min_impurity_split=None,\n",
       "                       min_samples_leaf=1, min_samples_split=2,\n",
       "                       min_weight_fraction_leaf=0.0, n_estimators=100,\n",
       "                       n_jobs=None, oob_score=False, random_state=None,\n",
       "                       verbose=0, warm_start=False)"
      ]
     },
     "execution_count": 75,
     "metadata": {},
     "output_type": "execute_result"
    }
   ],
   "source": [
    "from sklearn.ensemble import RandomForestClassifier\n",
    "\n",
    "randomForest = RandomForestClassifier()\n",
    "\n",
    "randomForest.fit(X_train, y_train)"
   ]
  },
  {
   "cell_type": "code",
   "execution_count": 77,
   "metadata": {},
   "outputs": [
    {
     "name": "stdout",
     "output_type": "stream",
     "text": [
      "0.7403846153846154\n",
      "0.76144578313253\n"
     ]
    }
   ],
   "source": [
    "randomForest_output = randomForest.predict(X_test)\n",
    "\n",
    "randomForest_accuracy = accuracy_score(randomForest_output, y_test)\n",
    "print(randomForest_accuracy)\n",
    "\n",
    "#Now for cross-validation\n",
    "\n",
    "rf_cross_val_score = cross_val_score(randomForest, X_data_fitted, y_data, cv=10)\n",
    "\n",
    "print(rf_cross_val_score.mean())"
   ]
  },
  {
   "cell_type": "markdown",
   "metadata": {},
   "source": [
    "## SVM\n",
    "\n",
    "Next try using svm.SVC with a linear kernel. How does it compare to the decision tree?"
   ]
  },
  {
   "cell_type": "code",
   "execution_count": null,
   "metadata": {},
   "outputs": [],
   "source": []
  },
  {
   "cell_type": "code",
   "execution_count": null,
   "metadata": {},
   "outputs": [],
   "source": []
  },
  {
   "cell_type": "markdown",
   "metadata": {},
   "source": [
    "## KNN\n",
    "How about K-Nearest-Neighbors? Hint: use neighbors.KNeighborsClassifier - it's a lot easier than implementing KNN from scratch like we did earlier in the course. Start with a K of 10. K is an example of a hyperparameter - a parameter on the model itself which may need to be tuned for best results on your particular data set."
   ]
  },
  {
   "cell_type": "code",
   "execution_count": null,
   "metadata": {},
   "outputs": [],
   "source": []
  },
  {
   "cell_type": "markdown",
   "metadata": {},
   "source": [
    "Choosing K is tricky, so we can't discard KNN until we've tried different values of K. Write a for loop to run KNN with K values ranging from 1 to 50 and see if K makes a substantial difference. Make a note of the best performance you could get out of KNN."
   ]
  },
  {
   "cell_type": "code",
   "execution_count": null,
   "metadata": {},
   "outputs": [],
   "source": []
  },
  {
   "cell_type": "markdown",
   "metadata": {},
   "source": [
    "## Naive Bayes\n",
    "\n",
    "Now try naive_bayes.MultinomialNB. How does its accuracy stack up? Hint: you'll need to use MinMaxScaler to get the features in the range MultinomialNB requires."
   ]
  },
  {
   "cell_type": "code",
   "execution_count": null,
   "metadata": {},
   "outputs": [],
   "source": []
  },
  {
   "cell_type": "markdown",
   "metadata": {},
   "source": [
    "## Revisiting SVM\n",
    "\n",
    "svm.SVC may perform differently with different kernels. The choice of kernel is an example of a \"hyperparamter.\" Try the rbf, sigmoid, and poly kernels and see what the best-performing kernel is. Do we have a new winner?"
   ]
  },
  {
   "cell_type": "code",
   "execution_count": null,
   "metadata": {},
   "outputs": [],
   "source": []
  },
  {
   "cell_type": "code",
   "execution_count": null,
   "metadata": {},
   "outputs": [],
   "source": []
  },
  {
   "cell_type": "code",
   "execution_count": null,
   "metadata": {},
   "outputs": [],
   "source": []
  },
  {
   "cell_type": "markdown",
   "metadata": {},
   "source": [
    "## Logistic Regression\n",
    "\n",
    "We've tried all these fancy techniques, but fundamentally this is just a binary classification problem. Try Logisitic Regression, which is a simple way to tackling this sort of thing."
   ]
  },
  {
   "cell_type": "code",
   "execution_count": null,
   "metadata": {
    "collapsed": true
   },
   "outputs": [],
   "source": []
  },
  {
   "cell_type": "code",
   "execution_count": null,
   "metadata": {
    "collapsed": true
   },
   "outputs": [],
   "source": []
  },
  {
   "cell_type": "code",
   "execution_count": null,
   "metadata": {
    "collapsed": true
   },
   "outputs": [],
   "source": []
  },
  {
   "cell_type": "markdown",
   "metadata": {},
   "source": [
    "## Neural Networks\n",
    "\n",
    "As a bonus challenge, let's see if an artificial neural network can do even better. You can use Keras to set up a neural network with 1 binary output neuron and see how it performs. Don't be afraid to run a large number of epochs to train the model if necessary."
   ]
  },
  {
   "cell_type": "code",
   "execution_count": null,
   "metadata": {},
   "outputs": [],
   "source": []
  },
  {
   "cell_type": "code",
   "execution_count": null,
   "metadata": {},
   "outputs": [],
   "source": []
  },
  {
   "cell_type": "code",
   "execution_count": null,
   "metadata": {},
   "outputs": [],
   "source": []
  },
  {
   "cell_type": "code",
   "execution_count": null,
   "metadata": {},
   "outputs": [],
   "source": []
  },
  {
   "cell_type": "markdown",
   "metadata": {
    "collapsed": true
   },
   "source": [
    "## Do we have a winner?\n",
    "\n",
    "Which model, and which choice of hyperparameters, performed the best? Feel free to share your results!"
   ]
  },
  {
   "cell_type": "code",
   "execution_count": null,
   "metadata": {
    "collapsed": true
   },
   "outputs": [],
   "source": []
  }
 ],
 "metadata": {
  "kernelspec": {
   "display_name": "Python 3.6 (tensorflow)",
   "language": "python",
   "name": "tensorflow"
  },
  "language_info": {
   "codemirror_mode": {
    "name": "ipython",
    "version": 3
   },
   "file_extension": ".py",
   "mimetype": "text/x-python",
   "name": "python",
   "nbconvert_exporter": "python",
   "pygments_lexer": "ipython3",
   "version": "3.6.9"
  }
 },
 "nbformat": 4,
 "nbformat_minor": 2
}
